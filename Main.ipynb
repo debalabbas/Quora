{
 "cells": [
  {
   "cell_type": "code",
   "execution_count": 1,
   "metadata": {},
   "outputs": [],
   "source": [
    "import random\n",
    "import numpy as np\n",
    "import pandas as pd\n",
    "import trax\n",
    "import trax.layers as tl\n",
    "from tensorflow.keras.preprocessing.text import Tokenizer\n",
    "from tensorflow.keras.preprocessing.sequence import pad_sequences\n",
    "from trax.fastmath import numpy as fastnp"
   ]
  },
  {
   "cell_type": "code",
   "execution_count": 2,
   "metadata": {},
   "outputs": [
    {
     "name": "stdout",
     "output_type": "stream",
     "text": [
      "(404290, 6)\n"
     ]
    },
    {
     "data": {
      "text/html": [
       "<div>\n",
       "<style scoped>\n",
       "    .dataframe tbody tr th:only-of-type {\n",
       "        vertical-align: middle;\n",
       "    }\n",
       "\n",
       "    .dataframe tbody tr th {\n",
       "        vertical-align: top;\n",
       "    }\n",
       "\n",
       "    .dataframe thead th {\n",
       "        text-align: right;\n",
       "    }\n",
       "</style>\n",
       "<table border=\"1\" class=\"dataframe\">\n",
       "  <thead>\n",
       "    <tr style=\"text-align: right;\">\n",
       "      <th></th>\n",
       "      <th>id</th>\n",
       "      <th>qid1</th>\n",
       "      <th>qid2</th>\n",
       "      <th>question1</th>\n",
       "      <th>question2</th>\n",
       "      <th>is_duplicate</th>\n",
       "    </tr>\n",
       "  </thead>\n",
       "  <tbody>\n",
       "    <tr>\n",
       "      <th>0</th>\n",
       "      <td>0</td>\n",
       "      <td>1</td>\n",
       "      <td>2</td>\n",
       "      <td>What is the step by step guide to invest in sh...</td>\n",
       "      <td>What is the step by step guide to invest in sh...</td>\n",
       "      <td>0</td>\n",
       "    </tr>\n",
       "    <tr>\n",
       "      <th>1</th>\n",
       "      <td>1</td>\n",
       "      <td>3</td>\n",
       "      <td>4</td>\n",
       "      <td>What is the story of Kohinoor (Koh-i-Noor) Dia...</td>\n",
       "      <td>What would happen if the Indian government sto...</td>\n",
       "      <td>0</td>\n",
       "    </tr>\n",
       "    <tr>\n",
       "      <th>2</th>\n",
       "      <td>2</td>\n",
       "      <td>5</td>\n",
       "      <td>6</td>\n",
       "      <td>How can I increase the speed of my internet co...</td>\n",
       "      <td>How can Internet speed be increased by hacking...</td>\n",
       "      <td>0</td>\n",
       "    </tr>\n",
       "    <tr>\n",
       "      <th>3</th>\n",
       "      <td>3</td>\n",
       "      <td>7</td>\n",
       "      <td>8</td>\n",
       "      <td>Why am I mentally very lonely? How can I solve...</td>\n",
       "      <td>Find the remainder when [math]23^{24}[/math] i...</td>\n",
       "      <td>0</td>\n",
       "    </tr>\n",
       "    <tr>\n",
       "      <th>4</th>\n",
       "      <td>4</td>\n",
       "      <td>9</td>\n",
       "      <td>10</td>\n",
       "      <td>Which one dissolve in water quikly sugar, salt...</td>\n",
       "      <td>Which fish would survive in salt water?</td>\n",
       "      <td>0</td>\n",
       "    </tr>\n",
       "  </tbody>\n",
       "</table>\n",
       "</div>"
      ],
      "text/plain": [
       "   id  qid1  qid2                                          question1  \\\n",
       "0   0     1     2  What is the step by step guide to invest in sh...   \n",
       "1   1     3     4  What is the story of Kohinoor (Koh-i-Noor) Dia...   \n",
       "2   2     5     6  How can I increase the speed of my internet co...   \n",
       "3   3     7     8  Why am I mentally very lonely? How can I solve...   \n",
       "4   4     9    10  Which one dissolve in water quikly sugar, salt...   \n",
       "\n",
       "                                           question2  is_duplicate  \n",
       "0  What is the step by step guide to invest in sh...             0  \n",
       "1  What would happen if the Indian government sto...             0  \n",
       "2  How can Internet speed be increased by hacking...             0  \n",
       "3  Find the remainder when [math]23^{24}[/math] i...             0  \n",
       "4            Which fish would survive in salt water?             0  "
      ]
     },
     "execution_count": 2,
     "metadata": {},
     "output_type": "execute_result"
    }
   ],
   "source": [
    "df = pd.read_csv('dataset/train.csv')\n",
    "print(df.shape)\n",
    "df.head()"
   ]
  },
  {
   "cell_type": "code",
   "execution_count": 3,
   "metadata": {},
   "outputs": [
    {
     "name": "stdout",
     "output_type": "stream",
     "text": [
      "(323432, 6)\n"
     ]
    },
    {
     "data": {
      "text/html": [
       "<div>\n",
       "<style scoped>\n",
       "    .dataframe tbody tr th:only-of-type {\n",
       "        vertical-align: middle;\n",
       "    }\n",
       "\n",
       "    .dataframe tbody tr th {\n",
       "        vertical-align: top;\n",
       "    }\n",
       "\n",
       "    .dataframe thead th {\n",
       "        text-align: right;\n",
       "    }\n",
       "</style>\n",
       "<table border=\"1\" class=\"dataframe\">\n",
       "  <thead>\n",
       "    <tr style=\"text-align: right;\">\n",
       "      <th></th>\n",
       "      <th>id</th>\n",
       "      <th>qid1</th>\n",
       "      <th>qid2</th>\n",
       "      <th>question1</th>\n",
       "      <th>question2</th>\n",
       "      <th>is_duplicate</th>\n",
       "    </tr>\n",
       "  </thead>\n",
       "  <tbody>\n",
       "    <tr>\n",
       "      <th>0</th>\n",
       "      <td>0</td>\n",
       "      <td>1</td>\n",
       "      <td>2</td>\n",
       "      <td>What is the step by step guide to invest in sh...</td>\n",
       "      <td>What is the step by step guide to invest in sh...</td>\n",
       "      <td>0</td>\n",
       "    </tr>\n",
       "    <tr>\n",
       "      <th>1</th>\n",
       "      <td>1</td>\n",
       "      <td>3</td>\n",
       "      <td>4</td>\n",
       "      <td>What is the story of Kohinoor (Koh-i-Noor) Dia...</td>\n",
       "      <td>What would happen if the Indian government sto...</td>\n",
       "      <td>0</td>\n",
       "    </tr>\n",
       "    <tr>\n",
       "      <th>2</th>\n",
       "      <td>2</td>\n",
       "      <td>5</td>\n",
       "      <td>6</td>\n",
       "      <td>How can I increase the speed of my internet co...</td>\n",
       "      <td>How can Internet speed be increased by hacking...</td>\n",
       "      <td>0</td>\n",
       "    </tr>\n",
       "    <tr>\n",
       "      <th>3</th>\n",
       "      <td>3</td>\n",
       "      <td>7</td>\n",
       "      <td>8</td>\n",
       "      <td>Why am I mentally very lonely? How can I solve...</td>\n",
       "      <td>Find the remainder when [math]23^{24}[/math] i...</td>\n",
       "      <td>0</td>\n",
       "    </tr>\n",
       "    <tr>\n",
       "      <th>4</th>\n",
       "      <td>4</td>\n",
       "      <td>9</td>\n",
       "      <td>10</td>\n",
       "      <td>Which one dissolve in water quikly sugar, salt...</td>\n",
       "      <td>Which fish would survive in salt water?</td>\n",
       "      <td>0</td>\n",
       "    </tr>\n",
       "  </tbody>\n",
       "</table>\n",
       "</div>"
      ],
      "text/plain": [
       "   id  qid1  qid2                                          question1  \\\n",
       "0   0     1     2  What is the step by step guide to invest in sh...   \n",
       "1   1     3     4  What is the story of Kohinoor (Koh-i-Noor) Dia...   \n",
       "2   2     5     6  How can I increase the speed of my internet co...   \n",
       "3   3     7     8  Why am I mentally very lonely? How can I solve...   \n",
       "4   4     9    10  Which one dissolve in water quikly sugar, salt...   \n",
       "\n",
       "                                           question2  is_duplicate  \n",
       "0  What is the step by step guide to invest in sh...             0  \n",
       "1  What would happen if the Indian government sto...             0  \n",
       "2  How can Internet speed be increased by hacking...             0  \n",
       "3  Find the remainder when [math]23^{24}[/math] i...             0  \n",
       "4            Which fish would survive in salt water?             0  "
      ]
     },
     "execution_count": 3,
     "metadata": {},
     "output_type": "execute_result"
    }
   ],
   "source": [
    "split = int(0.8 * len(df))\n",
    "df_test = df.iloc[split:]\n",
    "df = df.iloc[:split]\n",
    "print(df.shape)\n",
    "df.head()"
   ]
  },
  {
   "cell_type": "code",
   "execution_count": 4,
   "metadata": {},
   "outputs": [
    {
     "name": "stdout",
     "output_type": "stream",
     "text": [
      "Shape of the new dataframe is  (120176, 6)\n",
      "Number of rows which have been filtered out are  203256\n"
     ]
    },
    {
     "data": {
      "text/html": [
       "<div>\n",
       "<style scoped>\n",
       "    .dataframe tbody tr th:only-of-type {\n",
       "        vertical-align: middle;\n",
       "    }\n",
       "\n",
       "    .dataframe tbody tr th {\n",
       "        vertical-align: top;\n",
       "    }\n",
       "\n",
       "    .dataframe thead th {\n",
       "        text-align: right;\n",
       "    }\n",
       "</style>\n",
       "<table border=\"1\" class=\"dataframe\">\n",
       "  <thead>\n",
       "    <tr style=\"text-align: right;\">\n",
       "      <th></th>\n",
       "      <th>id</th>\n",
       "      <th>qid1</th>\n",
       "      <th>qid2</th>\n",
       "      <th>question1</th>\n",
       "      <th>question2</th>\n",
       "      <th>is_duplicate</th>\n",
       "    </tr>\n",
       "  </thead>\n",
       "  <tbody>\n",
       "    <tr>\n",
       "      <th>5</th>\n",
       "      <td>5</td>\n",
       "      <td>11</td>\n",
       "      <td>12</td>\n",
       "      <td>Astrology: I am a Capricorn Sun Cap moon and c...</td>\n",
       "      <td>I'm a triple Capricorn (Sun, Moon and ascendan...</td>\n",
       "      <td>1</td>\n",
       "    </tr>\n",
       "    <tr>\n",
       "      <th>7</th>\n",
       "      <td>7</td>\n",
       "      <td>15</td>\n",
       "      <td>16</td>\n",
       "      <td>How can I be a good geologist?</td>\n",
       "      <td>What should I do to be a great geologist?</td>\n",
       "      <td>1</td>\n",
       "    </tr>\n",
       "    <tr>\n",
       "      <th>11</th>\n",
       "      <td>11</td>\n",
       "      <td>23</td>\n",
       "      <td>24</td>\n",
       "      <td>How do I read and find my YouTube comments?</td>\n",
       "      <td>How can I see all my Youtube comments?</td>\n",
       "      <td>1</td>\n",
       "    </tr>\n",
       "    <tr>\n",
       "      <th>12</th>\n",
       "      <td>12</td>\n",
       "      <td>25</td>\n",
       "      <td>26</td>\n",
       "      <td>What can make Physics easy to learn?</td>\n",
       "      <td>How can you make physics easy to learn?</td>\n",
       "      <td>1</td>\n",
       "    </tr>\n",
       "    <tr>\n",
       "      <th>13</th>\n",
       "      <td>13</td>\n",
       "      <td>27</td>\n",
       "      <td>28</td>\n",
       "      <td>What was your first sexual experience like?</td>\n",
       "      <td>What was your first sexual experience?</td>\n",
       "      <td>1</td>\n",
       "    </tr>\n",
       "  </tbody>\n",
       "</table>\n",
       "</div>"
      ],
      "text/plain": [
       "    id  qid1  qid2                                          question1  \\\n",
       "5    5    11    12  Astrology: I am a Capricorn Sun Cap moon and c...   \n",
       "7    7    15    16                     How can I be a good geologist?   \n",
       "11  11    23    24        How do I read and find my YouTube comments?   \n",
       "12  12    25    26               What can make Physics easy to learn?   \n",
       "13  13    27    28        What was your first sexual experience like?   \n",
       "\n",
       "                                            question2  is_duplicate  \n",
       "5   I'm a triple Capricorn (Sun, Moon and ascendan...             1  \n",
       "7           What should I do to be a great geologist?             1  \n",
       "11             How can I see all my Youtube comments?             1  \n",
       "12            How can you make physics easy to learn?             1  \n",
       "13             What was your first sexual experience?             1  "
      ]
     },
     "execution_count": 4,
     "metadata": {},
     "output_type": "execute_result"
    }
   ],
   "source": [
    "df_filtered = df[df.is_duplicate == 1]\n",
    "print('Shape of the new dataframe is ',df_filtered.shape)\n",
    "print('Number of rows which have been filtered out are ',df.shape[0]-df_filtered.shape[0])\n",
    "df_filtered.head()"
   ]
  },
  {
   "cell_type": "code",
   "execution_count": 5,
   "metadata": {},
   "outputs": [
    {
     "name": "stdout",
     "output_type": "stream",
     "text": [
      "<class 'numpy.ndarray'> (120176,)\n"
     ]
    }
   ],
   "source": [
    "Q1_text = df_filtered.question1.values\n",
    "Q2_text = df_filtered.question2.values\n",
    "print(type(Q1_text),Q1_text.shape)"
   ]
  },
  {
   "cell_type": "code",
   "execution_count": 6,
   "metadata": {},
   "outputs": [
    {
     "name": "stdout",
     "output_type": "stream",
     "text": [
      "['Astrology: I am a Capricorn Sun Cap moon and cap rising...what does that say about me?'\n",
      " 'How can I be a good geologist?'\n",
      " 'How do I read and find my YouTube comments?' ...\n",
      " 'What should be my strategy to earn coins in MiniClip 8 Ball Pool?'\n",
      " 'What is the best question one has ever come across in Quora?'\n",
      " 'How will black money and corruption be stopped by banning 500 and 1000 notes?']\n"
     ]
    }
   ],
   "source": [
    "print(Q1_text)"
   ]
  },
  {
   "cell_type": "code",
   "execution_count": 7,
   "metadata": {},
   "outputs": [
    {
     "name": "stdout",
     "output_type": "stream",
     "text": [
      "28986\n"
     ]
    }
   ],
   "source": [
    "tokenizer = Tokenizer(oov_token='<UNK>')\n",
    "tokenizer.fit_on_texts(np.concatenate((Q1_text,Q2_text)))\n",
    "vocab = tokenizer.word_index\n",
    "print(len(vocab))"
   ]
  },
  {
   "cell_type": "code",
   "execution_count": 8,
   "metadata": {},
   "outputs": [],
   "source": [
    "Q1_train = tokenizer.texts_to_sequences(Q1_text)\n",
    "\n",
    "Q2_train = tokenizer.texts_to_sequences(Q2_text)\n"
   ]
  },
  {
   "cell_type": "code",
   "execution_count": 9,
   "metadata": {},
   "outputs": [
    {
     "name": "stdout",
     "output_type": "stream",
     "text": [
      "[[1509, 6, 160, 10, 8207, 942, 5463, 658, 14, 5463, 7838, 3, 24, 32, 479, 45, 94], [5, 13, 6, 23, 10, 46, 16437]]\n"
     ]
    }
   ],
   "source": [
    "split = int(0.8 * len(Q1_train))\n",
    "Q1_val = Q1_train[split:]\n",
    "Q1_train = Q1_train[:split]\n",
    "Q2_val = Q2_train[split:]\n",
    "Q2_train = Q2_train[:split]\n",
    "print(Q1_train[:2])"
   ]
  },
  {
   "cell_type": "code",
   "execution_count": 10,
   "metadata": {},
   "outputs": [
    {
     "name": "stdout",
     "output_type": "stream",
     "text": [
      "(96140, 64) (24036, 64) (96140, 64) (24036, 64)\n"
     ]
    }
   ],
   "source": [
    "Q1_train =pad_sequences(Q1_train,padding='post',maxlen=64)\n",
    "Q1_val =pad_sequences(Q1_val,padding='post',maxlen=64)\n",
    "Q2_train =pad_sequences(Q2_train,padding='post',maxlen=64)\n",
    "Q2_val =pad_sequences(Q2_val,padding='post',maxlen=64)\n",
    "print(Q1_train.shape,Q1_val.shape,Q2_train.shape,Q2_val.shape)"
   ]
  },
  {
   "cell_type": "code",
   "execution_count": 11,
   "metadata": {},
   "outputs": [],
   "source": [
    "def stream(q1,q2,batch_size=128):\n",
    "    idx = 0\n",
    "    while True:\n",
    "        k = 0\n",
    "        indexes = list(range(len(q1)))\n",
    "        b1,b2 = [],[]\n",
    "        while k< batch_size:\n",
    "            if idx >= len(q1):\n",
    "                idx = 0\n",
    "                np.random.shuffle(indexes)\n",
    "            Q1 = q1[indexes[idx]]\n",
    "            Q2 = q2[indexes[idx]]\n",
    "            idx += 1\n",
    "            k += 1\n",
    "            b1.append(Q1)\n",
    "            b2.append(Q2)\n",
    "        \n",
    "        yield (np.array(b1),np.array(b2))"
   ]
  },
  {
   "cell_type": "code",
   "execution_count": 12,
   "metadata": {},
   "outputs": [
    {
     "name": "stdout",
     "output_type": "stream",
     "text": [
      "Fist Question \n",
      " [[ 1509     6   160    10  8207   942  5463   658    14  5463  7838     3\n",
      "     24    32   479    45    94     0     0     0     0     0     0     0\n",
      "      0     0     0     0     0     0     0     0     0     0     0     0\n",
      "      0     0     0     0     0     0     0     0     0     0     0     0\n",
      "      0     0     0     0     0     0     0     0     0     0     0     0\n",
      "      0     0     0     0]\n",
      " [    5    13     6    23    10    46 16437     0     0     0     0     0\n",
      "      0     0     0     0     0     0     0     0     0     0     0     0\n",
      "      0     0     0     0     0     0     0     0     0     0     0     0\n",
      "      0     0     0     0     0     0     0     0     0     0     0     0\n",
      "      0     0     0     0     0     0     0     0     0     0     0     0\n",
      "      0     0     0     0]]\n",
      "Second Question \n",
      " [[  261    10  3290  8207   942   658    14 12319     9  8207     3    24\n",
      "    112   479    45    94     0     0     0     0     0     0     0     0\n",
      "      0     0     0     0     0     0     0     0     0     0     0     0\n",
      "      0     0     0     0     0     0     0     0     0     0     0     0\n",
      "      0     0     0     0     0     0     0     0     0     0     0     0\n",
      "      0     0     0     0]\n",
      " [    3    30     6     8     7    23    10   277 16437     0     0     0\n",
      "      0     0     0     0     0     0     0     0     0     0     0     0\n",
      "      0     0     0     0     0     0     0     0     0     0     0     0\n",
      "      0     0     0     0     0     0     0     0     0     0     0     0\n",
      "      0     0     0     0     0     0     0     0     0     0     0     0\n",
      "      0     0     0     0]]\n"
     ]
    }
   ],
   "source": [
    "res1,res2 = next(stream(Q1_train,Q2_train,batch_size=2))\n",
    "print('Fist Question \\n',res1)\n",
    "print('Second Question \\n',res2)"
   ]
  },
  {
   "cell_type": "code",
   "execution_count": 13,
   "metadata": {},
   "outputs": [],
   "source": [
    "train_gen = stream(Q1_train,Q2_train)\n",
    "eval_gen = stream(Q1_val,Q2_val)"
   ]
  },
  {
   "cell_type": "code",
   "execution_count": 14,
   "metadata": {},
   "outputs": [
    {
     "data": {
      "text/plain": [
       "Parallel_in2_out2[\n",
       "  Serial[\n",
       "    Embedding_28987_128\n",
       "    LSTM_128\n",
       "    Mean\n",
       "    Normalize\n",
       "  ]\n",
       "  Serial[\n",
       "    Embedding_28987_128\n",
       "    LSTM_128\n",
       "    Mean\n",
       "    Normalize\n",
       "  ]\n",
       "]"
      ]
     },
     "execution_count": 14,
     "metadata": {},
     "output_type": "execute_result"
    }
   ],
   "source": [
    "def normalize(x):  # normalizes the vectors to have L2 norm 1\n",
    "    return x / fastnp.sqrt(fastnp.sum(x * x, axis=-1, keepdims=True))\n",
    "branch = tl.Serial(\n",
    "                    tl.Embedding(vocab_size=len(vocab)+1,d_feature=128),\n",
    "                    tl.LSTM(128),\n",
    "                    tl.Mean(axis=1),\n",
    "                    tl.Fn('Normalize', lambda x: normalize(x))\n",
    "    #   tl.BatchNorm(axis=1)\n",
    "                )\n",
    "                \n",
    "model = tl.Parallel(branch,branch)\n",
    "model"
   ]
  },
  {
   "cell_type": "code",
   "execution_count": 15,
   "metadata": {},
   "outputs": [],
   "source": [
    "def TripletLossFn(v1, v2, margin=0.0):\n",
    "    \"\"\"Custom Loss function.\n",
    "\n",
    "    Args:\n",
    "        v1 (numpy.ndarray): Array with dimension (batch_size, model_dimension) associated to Q1.\n",
    "        v2 (numpy.ndarray): Array with dimension (batch_size, model_dimension) associated to Q2.\n",
    "        margin (float, optional): Desired margin. Defaults to 0.25.\n",
    "\n",
    "    Returns:\n",
    "        jax.interpreters.xla.DeviceArray: Triplet Loss.\n",
    "    \"\"\"\n",
    "    ### START CODE HERE (Replace instances of 'None' with your code) ###\n",
    "    \n",
    "    # use fastnp to take the dot product of the two batches (don't forget to transpose the second argument)\n",
    "    scores = fastnp.dot(v1,v2.T)  # pairwise cosine sim\n",
    "    # calculate new batch size\n",
    "    batch_size = len(scores)\n",
    "    # use fastnp to grab all postive `diagonal` entries in `scores`\n",
    "    positive = fastnp.diagonal(scores)  # the positive ones (duplicates)\n",
    "    # multiply `fastnp.eye(batch_size)` with 2.0 and subtract it out of `scores`\n",
    "    negative_without_positive = scores - fastnp.eye(batch_size) * 2.0 \n",
    "    # take the row by row `max` of `negative_without_positive`. \n",
    "    # Hint: negative_without_positive.max(axis = [?])  \n",
    "    closest_negative = negative_without_positive.max(axis = 1)\n",
    "    # subtract `fastnp.eye(batch_size)` out of 1.0 and do element-wise multiplication with `scores`\n",
    "    negative_zero_on_duplicate = (1.0 - fastnp.eye(batch_size)) * scores\n",
    "    # use `fastnp.sum` on `negative_zero_on_duplicate` for `axis=1` and divide it by `(batch_size - 1)` \n",
    "    mean_negative = fastnp.sum(negative_zero_on_duplicate, axis=1) / (batch_size - 1)\n",
    "    # compute `fastnp.maximum` among 0.0 and `A`\n",
    "    # A = subtract `positive` from `margin` and add `closest_negative` \n",
    "    triplet_loss1 = fastnp.maximum(margin - positive + closest_negative, 0 )\n",
    "    # compute `fastnp.maximum` among 0.0 and `B`\n",
    "    # B = subtract `positive` from `margin` and add `mean_negative`\n",
    "    triplet_loss2 = fastnp.maximum(margin - positive + mean_negative, 0 )\n",
    "    # add the two losses together and take the `fastnp.mean` of it\n",
    "    triplet_loss = fastnp.mean(triplet_loss1 + triplet_loss2)\n",
    "    \n",
    "    ### END CODE HERE ###\n",
    "    \n",
    "    return triplet_loss\n"
   ]
  },
  {
   "cell_type": "code",
   "execution_count": 16,
   "metadata": {},
   "outputs": [],
   "source": [
    "from functools import partial\n",
    "def TripletLoss(margin=0.25):\n",
    "    triplet_loss_fn = partial(TripletLossFn, margin=margin)\n",
    "    return tl.Fn('TripletLoss', triplet_loss_fn)"
   ]
  },
  {
   "cell_type": "code",
   "execution_count": 17,
   "metadata": {},
   "outputs": [],
   "source": [
    "def TrainModel(Model,train_generator,eval_generator,TripletLoss,out_dir='./model'):\n",
    "    \n",
    "    #lr_schedule = trax.lr.warmup_and_rsqrt_decay(500,0.01)\n",
    "    \n",
    "    train_task = trax.supervised.training.TrainTask(labeled_data=train_generator, \n",
    "                                           loss_layer=TripletLoss(),\n",
    "                                           optimizer=trax.optimizers.Adam(learning_rate=0.01),\n",
    "                         #                  lr_schedule= lr_schedule,\n",
    "                                           n_steps_per_checkpoint= 50)\n",
    "    eval_task = trax.supervised.training.EvalTask(labeled_data=eval_generator, \n",
    "                                         metrics=[TripletLoss()])\n",
    "    \n",
    "    training_loop = trax.supervised.training.Loop(Model,\n",
    "                                                  tasks = [train_task],\n",
    "                                                  eval_tasks=[eval_task],\n",
    "                                                  output_dir=out_dir)\n",
    "    return training_loop"
   ]
  },
  {
   "cell_type": "code",
   "execution_count": 18,
   "metadata": {},
   "outputs": [],
   "source": [
    "!rm -rf 'model'\n",
    "loop = TrainModel(model,train_gen,eval_gen,TripletLoss)"
   ]
  },
  {
   "cell_type": "code",
   "execution_count": 19,
   "metadata": {
    "scrolled": true
   },
   "outputs": [
    {
     "name": "stdout",
     "output_type": "stream",
     "text": [
      "\n",
      "Step      1: Total number of trainable weights: 3841920\n",
      "Step      1: Ran 1 train steps in 2.93 secs\n",
      "Step      1: train TripletLoss |  0.49999785\n",
      "Step      1: eval  TripletLoss |  0.49999791\n",
      "\n",
      "Step     50: Ran 49 train steps in 2.99 secs\n",
      "Step     50: train TripletLoss |  0.49998072\n",
      "Step     50: eval  TripletLoss |  0.49999845\n",
      "\n",
      "Step    100: Ran 50 train steps in 2.15 secs\n",
      "Step    100: train TripletLoss |  0.49997699\n",
      "Step    100: eval  TripletLoss |  0.49999872\n",
      "\n",
      "Step    150: Ran 50 train steps in 2.22 secs\n",
      "Step    150: train TripletLoss |  0.49999672\n",
      "Step    150: eval  TripletLoss |  0.49999535\n",
      "\n",
      "Step    200: Ran 50 train steps in 2.36 secs\n",
      "Step    200: train TripletLoss |  0.49999416\n",
      "Step    200: eval  TripletLoss |  0.49999815\n",
      "\n",
      "Step    250: Ran 50 train steps in 2.44 secs\n",
      "Step    250: train TripletLoss |  0.49999428\n",
      "Step    250: eval  TripletLoss |  0.49999604\n",
      "\n",
      "Step    300: Ran 50 train steps in 2.36 secs\n",
      "Step    300: train TripletLoss |  0.49998459\n",
      "Step    300: eval  TripletLoss |  0.49999315\n",
      "\n",
      "Step    350: Ran 50 train steps in 2.39 secs\n",
      "Step    350: train TripletLoss |  0.49997166\n",
      "Step    350: eval  TripletLoss |  0.49996364\n",
      "\n",
      "Step    400: Ran 50 train steps in 2.40 secs\n",
      "Step    400: train TripletLoss |  0.49991003\n",
      "Step    400: eval  TripletLoss |  0.49979565\n",
      "\n",
      "Step    450: Ran 50 train steps in 2.60 secs\n",
      "Step    450: train TripletLoss |  0.49258700\n",
      "Step    450: eval  TripletLoss |  0.45611504\n",
      "\n",
      "Step    500: Ran 50 train steps in 2.59 secs\n",
      "Step    500: train TripletLoss |  0.40934849\n",
      "Step    500: eval  TripletLoss |  0.39673102\n",
      "\n",
      "Step    550: Ran 50 train steps in 2.55 secs\n",
      "Step    550: train TripletLoss |  0.37387887\n",
      "Step    550: eval  TripletLoss |  0.34484398\n",
      "\n",
      "Step    600: Ran 50 train steps in 2.70 secs\n",
      "Step    600: train TripletLoss |  0.33883038\n",
      "Step    600: eval  TripletLoss |  0.33667207\n",
      "\n",
      "Step    650: Ran 50 train steps in 2.71 secs\n",
      "Step    650: train TripletLoss |  0.31387731\n",
      "Step    650: eval  TripletLoss |  0.29347998\n",
      "\n",
      "Step    700: Ran 50 train steps in 2.81 secs\n",
      "Step    700: train TripletLoss |  0.29403082\n",
      "Step    700: eval  TripletLoss |  0.30450839\n",
      "\n",
      "Step    750: Ran 50 train steps in 2.59 secs\n",
      "Step    750: train TripletLoss |  0.28378683\n",
      "Step    750: eval  TripletLoss |  0.28814322\n",
      "\n",
      "Step    800: Ran 50 train steps in 2.84 secs\n",
      "Step    800: train TripletLoss |  0.27256936\n",
      "Step    800: eval  TripletLoss |  0.25918934\n",
      "\n",
      "Step    850: Ran 50 train steps in 2.84 secs\n",
      "Step    850: train TripletLoss |  0.25439098\n",
      "Step    850: eval  TripletLoss |  0.25035164\n",
      "\n",
      "Step    900: Ran 50 train steps in 2.61 secs\n",
      "Step    900: train TripletLoss |  0.21920350\n",
      "Step    900: eval  TripletLoss |  0.21707942\n",
      "\n",
      "Step    950: Ran 50 train steps in 2.63 secs\n",
      "Step    950: train TripletLoss |  0.18409212\n",
      "Step    950: eval  TripletLoss |  0.17170545\n",
      "\n",
      "Step   1000: Ran 50 train steps in 2.83 secs\n",
      "Step   1000: train TripletLoss |  0.15886414\n",
      "Step   1000: eval  TripletLoss |  0.17476615\n",
      "\n",
      "Step   1050: Ran 50 train steps in 2.81 secs\n",
      "Step   1050: train TripletLoss |  0.14146730\n",
      "Step   1050: eval  TripletLoss |  0.13098583\n",
      "\n",
      "Step   1100: Ran 50 train steps in 2.62 secs\n",
      "Step   1100: train TripletLoss |  0.13478059\n",
      "Step   1100: eval  TripletLoss |  0.13248931\n",
      "\n",
      "Step   1150: Ran 50 train steps in 2.63 secs\n",
      "Step   1150: train TripletLoss |  0.12133109\n",
      "Step   1150: eval  TripletLoss |  0.10836213\n",
      "\n",
      "Step   1200: Ran 50 train steps in 2.90 secs\n",
      "Step   1200: train TripletLoss |  0.11557080\n",
      "Step   1200: eval  TripletLoss |  0.10129659\n",
      "\n",
      "Step   1250: Ran 50 train steps in 2.68 secs\n",
      "Step   1250: train TripletLoss |  0.10937002\n",
      "Step   1250: eval  TripletLoss |  0.07185809\n",
      "\n",
      "Step   1300: Ran 50 train steps in 2.86 secs\n",
      "Step   1300: train TripletLoss |  0.09955435\n",
      "Step   1300: eval  TripletLoss |  0.08333999\n",
      "\n",
      "Step   1350: Ran 50 train steps in 2.85 secs\n",
      "Step   1350: train TripletLoss |  0.09831718\n",
      "Step   1350: eval  TripletLoss |  0.11449407\n",
      "\n",
      "Step   1400: Ran 50 train steps in 2.88 secs\n",
      "Step   1400: train TripletLoss |  0.09478355\n",
      "Step   1400: eval  TripletLoss |  0.09787499\n",
      "\n",
      "Step   1450: Ran 50 train steps in 2.63 secs\n",
      "Step   1450: train TripletLoss |  0.09397774\n",
      "Step   1450: eval  TripletLoss |  0.09878015\n",
      "\n",
      "Step   1500: Ran 50 train steps in 2.63 secs\n",
      "Step   1500: train TripletLoss |  0.08861729\n",
      "Step   1500: eval  TripletLoss |  0.08660263\n",
      "\n",
      "Step   1550: Ran 50 train steps in 2.64 secs\n",
      "Step   1550: train TripletLoss |  0.08082445\n",
      "Step   1550: eval  TripletLoss |  0.09157608\n",
      "\n",
      "Step   1600: Ran 50 train steps in 2.66 secs\n",
      "Step   1600: train TripletLoss |  0.08102363\n",
      "Step   1600: eval  TripletLoss |  0.06716847\n",
      "\n",
      "Step   1650: Ran 50 train steps in 2.65 secs\n",
      "Step   1650: train TripletLoss |  0.07864228\n",
      "Step   1650: eval  TripletLoss |  0.06177533\n",
      "\n",
      "Step   1700: Ran 50 train steps in 2.66 secs\n",
      "Step   1700: train TripletLoss |  0.07519390\n",
      "Step   1700: eval  TripletLoss |  0.08063915\n",
      "\n",
      "Step   1750: Ran 50 train steps in 2.66 secs\n",
      "Step   1750: train TripletLoss |  0.07152617\n",
      "Step   1750: eval  TripletLoss |  0.06708939\n",
      "\n",
      "Step   1800: Ran 50 train steps in 3.56 secs\n",
      "Step   1800: train TripletLoss |  0.06943559\n",
      "Step   1800: eval  TripletLoss |  0.07672984\n",
      "\n",
      "Step   1850: Ran 50 train steps in 3.69 secs\n",
      "Step   1850: train TripletLoss |  0.06926746\n",
      "Step   1850: eval  TripletLoss |  0.07324982\n",
      "\n",
      "Step   1900: Ran 50 train steps in 3.72 secs\n",
      "Step   1900: train TripletLoss |  0.06525577\n",
      "Step   1900: eval  TripletLoss |  0.06023335\n",
      "\n",
      "Step   1950: Ran 50 train steps in 3.59 secs\n",
      "Step   1950: train TripletLoss |  0.06352632\n",
      "Step   1950: eval  TripletLoss |  0.06344239\n",
      "\n",
      "Step   2000: Ran 50 train steps in 3.66 secs\n",
      "Step   2000: train TripletLoss |  0.06346743\n",
      "Step   2000: eval  TripletLoss |  0.06213842\n"
     ]
    }
   ],
   "source": [
    "loop.run(2000)"
   ]
  },
  {
   "cell_type": "code",
   "execution_count": 39,
   "metadata": {},
   "outputs": [],
   "source": [
    "df_test = df_test.iloc[:80384]"
   ]
  },
  {
   "cell_type": "code",
   "execution_count": 40,
   "metadata": {},
   "outputs": [
    {
     "data": {
      "text/plain": [
       "id              0\n",
       "qid1            0\n",
       "qid2            0\n",
       "question1       0\n",
       "question2       0\n",
       "is_duplicate    0\n",
       "dtype: int64"
      ]
     },
     "execution_count": 40,
     "metadata": {},
     "output_type": "execute_result"
    }
   ],
   "source": [
    "df_test.isnull().sum()"
   ]
  },
  {
   "cell_type": "code",
   "execution_count": 41,
   "metadata": {},
   "outputs": [
    {
     "data": {
      "text/plain": [
       "id              0\n",
       "qid1            0\n",
       "qid2            0\n",
       "question1       0\n",
       "question2       0\n",
       "is_duplicate    0\n",
       "dtype: int64"
      ]
     },
     "execution_count": 41,
     "metadata": {},
     "output_type": "execute_result"
    }
   ],
   "source": [
    "df_test.fillna('<UNK>',inplace=True)\n",
    "df_test.isnull().sum()"
   ]
  },
  {
   "cell_type": "code",
   "execution_count": 42,
   "metadata": {},
   "outputs": [],
   "source": [
    "Q1_test = df_test.question1.values\n",
    "Q2_test = df_test.question2.values\n",
    "Y       = df_test.is_duplicate.values"
   ]
  },
  {
   "cell_type": "code",
   "execution_count": 43,
   "metadata": {},
   "outputs": [],
   "source": [
    "Q1_test = tokenizer.texts_to_sequences(Q1_test)\n",
    "Q2_test = tokenizer.texts_to_sequences(Q2_test)"
   ]
  },
  {
   "cell_type": "code",
   "execution_count": 44,
   "metadata": {},
   "outputs": [],
   "source": [
    "Q1_test = pad_sequences(Q1_test,maxlen=64,padding='post',truncating='post')\n",
    "Q2_test = pad_sequences(Q2_test,maxlen=64,padding='post',truncating='post')"
   ]
  },
  {
   "cell_type": "code",
   "execution_count": 26,
   "metadata": {},
   "outputs": [],
   "source": [
    "def classify(test_Q1, test_Q2, y, threshold, model, vocab, data_generator=stream, batch_size=64):\n",
    "    \"\"\"Function to test the accuracy of the model.\n",
    "\n",
    "    Args:\n",
    "        test_Q1 (numpy.ndarray): Array of Q1 questions.\n",
    "        test_Q2 (numpy.ndarray): Array of Q2 questions.\n",
    "        y (numpy.ndarray): Array of actual target.\n",
    "        threshold (float): Desired threshold.\n",
    "        model (trax.layers.combinators.Parallel): The Siamese model.\n",
    "        vocab (collections.defaultdict): The vocabulary used.\n",
    "        data_generator (function): Data generator function. Defaults to data_generator.\n",
    "        batch_size (int, optional): Size of the batches. Defaults to 64.\n",
    "\n",
    "    Returns:\n",
    "        float: Accuracy of the model.\n",
    "    \"\"\"\n",
    "    accuracy = 0\n",
    "    \n",
    "    for i in range(0, len(test_Q1), batch_size):\n",
    "        \n",
    "        \n",
    "        q1, q2 = next(data_generator(test_Q1[i: i + batch_size], test_Q2[i: i+batch_size], batch_size, pad=vocab['<PAD>'], shuffle=False))\n",
    "        \n",
    "\n",
    "        y_test = y[i: i + batch_size]\n",
    "        \n",
    "        v1, v2 = model((q1,q2))\n",
    "\n",
    "        for j in range(batch_size):\n",
    "       \n",
    "            d = fastnp.dot(v1[j],v2[j].T)\n",
    "            \n",
    "            res = d > threshold\n",
    "            \n",
    "            accuracy += (y_test[j] == res)\n",
    "    \n",
    "    accuracy = accuracy / len(test_Q1)\n",
    "    \n",
    "    return accuracy"
   ]
  },
  {
   "cell_type": "code",
   "execution_count": 45,
   "metadata": {},
   "outputs": [],
   "source": [
    "pred = classify(Q1_test,Q2_test,Y,0.75,model,vocab)"
   ]
  },
  {
   "cell_type": "code",
   "execution_count": 47,
   "metadata": {},
   "outputs": [
    {
     "data": {
      "text/plain": [
       "0.7294610867834395"
      ]
     },
     "execution_count": 47,
     "metadata": {},
     "output_type": "execute_result"
    }
   ],
   "source": [
    "accu = 0\n",
    "for x,y in zip(Y,pred):\n",
    "    if x==y:\n",
    "        accu += 1\n",
    "accu/len(Q1_test)       "
   ]
  }
 ],
 "metadata": {
  "kernelspec": {
   "display_name": "Python 3",
   "language": "python",
   "name": "python3"
  },
  "language_info": {
   "codemirror_mode": {
    "name": "ipython",
    "version": 3
   },
   "file_extension": ".py",
   "mimetype": "text/x-python",
   "name": "python",
   "nbconvert_exporter": "python",
   "pygments_lexer": "ipython3",
   "version": "3.8.5"
  }
 },
 "nbformat": 4,
 "nbformat_minor": 4
}
